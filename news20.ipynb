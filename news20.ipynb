{
 "cells": [
  {
   "cell_type": "markdown",
   "metadata": {
    "deletable": true,
    "editable": true
   },
   "source": [
    "## NLP Assignment"
   ]
  },
  {
   "cell_type": "code",
   "execution_count": 1,
   "metadata": {
    "collapsed": false,
    "deletable": true,
    "editable": true
   },
   "outputs": [
    {
     "name": "stderr",
     "output_type": "stream",
     "text": [
      "Using TensorFlow backend.\n"
     ]
    }
   ],
   "source": [
    "import nltk\n",
    "from nltk.tokenize import word_tokenize,sent_tokenize\n",
    "from nltk.corpus import stopwords\n",
    "from sklearn.naive_bayes import MultinomialNB\n",
    "from sklearn.feature_extraction.text import CountVectorizer,TfidfTransformer,TfidfVectorizer\n",
    "from sklearn.model_selection import train_test_split\n",
    "from sklearn.metrics import accuracy_score,confusion_matrix,precision_score,recall_score\n",
    "from keras.models import Sequential,Model\n",
    "from keras.layers import Input,Dense,Dropout,Activation\n",
    "from keras.utils import np_utils\n",
    "from sklearn.preprocessing import  LabelEncoder\n",
    "import matplotlib.pyplot as plt\n",
    "%matplotlib inline\n",
    "from sklearn import svm\n",
    "import numpy as np\n",
    "import pandas as pd\n",
    "import os\n",
    "import re\n",
    "import tensorflow as tf"
   ]
  },
  {
   "cell_type": "markdown",
   "metadata": {
    "deletable": true,
    "editable": true
   },
   "source": [
    "### Extract 20_newsgroup in the notebook directory"
   ]
  },
  {
   "cell_type": "code",
   "execution_count": 46,
   "metadata": {
    "collapsed": false,
    "deletable": true,
    "editable": true
   },
   "outputs": [],
   "source": [
    "base_path=os.getcwd() + '/nlp_training/' \n",
    "base_path=os.path.join(base_path,'20_newsgroups')\n",
    "news_dirs=os.listdir('nlp_training/20_newsgroups')"
   ]
  },
  {
   "cell_type": "code",
   "execution_count": 47,
   "metadata": {
    "collapsed": true,
    "deletable": true,
    "editable": true
   },
   "outputs": [
    {
     "data": {
      "text/html": [
       "<div>\n",
       "<table border=\"1\" class=\"dataframe\">\n",
       "  <thead>\n",
       "    <tr style=\"text-align: right;\">\n",
       "      <th></th>\n",
       "      <th>emails</th>\n",
       "      <th>file_path</th>\n",
       "      <th>labels</th>\n",
       "    </tr>\n",
       "  </thead>\n",
       "  <tbody>\n",
       "    <tr>\n",
       "      <th>0</th>\n",
       "      <td>Xref: cantaloupe.srv.cs.cmu.edu talk.politics....</td>\n",
       "      <td>talk.politics.guns/54506</td>\n",
       "      <td>talk.politics.guns</td>\n",
       "    </tr>\n",
       "    <tr>\n",
       "      <th>1</th>\n",
       "      <td>Path: cantaloupe.srv.cs.cmu.edu!crabapple.srv....</td>\n",
       "      <td>talk.politics.guns/55235</td>\n",
       "      <td>talk.politics.guns</td>\n",
       "    </tr>\n",
       "    <tr>\n",
       "      <th>2</th>\n",
       "      <td>Xref: cantaloupe.srv.cs.cmu.edu talk.politics....</td>\n",
       "      <td>talk.politics.guns/54398</td>\n",
       "      <td>talk.politics.guns</td>\n",
       "    </tr>\n",
       "    <tr>\n",
       "      <th>3</th>\n",
       "      <td>Newsgroups: talk.politics.guns\\nPath: cantalou...</td>\n",
       "      <td>talk.politics.guns/54527</td>\n",
       "      <td>talk.politics.guns</td>\n",
       "    </tr>\n",
       "    <tr>\n",
       "      <th>4</th>\n",
       "      <td>Path: cantaloupe.srv.cs.cmu.edu!magnesium.club...</td>\n",
       "      <td>talk.politics.guns/54749</td>\n",
       "      <td>talk.politics.guns</td>\n",
       "    </tr>\n",
       "  </tbody>\n",
       "</table>\n",
       "</div>"
      ],
      "text/plain": [
       "                                              emails  \\\n",
       "0  Xref: cantaloupe.srv.cs.cmu.edu talk.politics....   \n",
       "1  Path: cantaloupe.srv.cs.cmu.edu!crabapple.srv....   \n",
       "2  Xref: cantaloupe.srv.cs.cmu.edu talk.politics....   \n",
       "3  Newsgroups: talk.politics.guns\\nPath: cantalou...   \n",
       "4  Path: cantaloupe.srv.cs.cmu.edu!magnesium.club...   \n",
       "\n",
       "                  file_path              labels  \n",
       "0  talk.politics.guns/54506  talk.politics.guns  \n",
       "1  talk.politics.guns/55235  talk.politics.guns  \n",
       "2  talk.politics.guns/54398  talk.politics.guns  \n",
       "3  talk.politics.guns/54527  talk.politics.guns  \n",
       "4  talk.politics.guns/54749  talk.politics.guns  "
      ]
     },
     "execution_count": 47,
     "metadata": {},
     "output_type": "execute_result"
    }
   ],
   "source": [
    "input_emails = []\n",
    "output_labels = []\n",
    "file_path=[]\n",
    "for _dir in news_dirs:\n",
    "    for _file in os.listdir(os.path.join(base_path, _dir)):\n",
    "        output_labels.append(_dir)\n",
    "        file_path.append(os.path.join(_dir,_file))\n",
    "        with open(os.path.join(os.path.join(base_path,_dir), _file)) as f:\n",
    "            input_emails.append(f.read())\n",
    "\n",
    "dataset_df = pd.DataFrame({'emails': input_emails, 'labels': output_labels,'file_path':file_path })"
   ]
  },
  {
   "cell_type": "code",
   "execution_count": 4,
   "metadata": {
    "collapsed": false,
    "deletable": true,
    "editable": true
   },
   "outputs": [],
   "source": [
    "test_email = dataset_df[dataset_df['file_path']== 'talk.politics.guns/53293']['emails']"
   ]
  },
  {
   "cell_type": "code",
   "execution_count": 13,
   "metadata": {
    "collapsed": false,
    "deletable": true,
    "editable": true
   },
   "outputs": [],
   "source": [
    "def remove_redundancy_words(test_email):\n",
    "    \n",
    "    x=re.sub(r'(Xref|Newsgroups|Path|From|Organization|Distribution|Message|Date|Message-ID|Followup-To|\\\n",
    "          |X-Newsreader|References|Rate|Lines|Sender|NNTP-Posting-Host|Nntp-Posting-Host|Reply-To|Keywords):.*','',test_email)\n",
    "    return re.sub(r'[^a-zA-Z ]',' ',x)\n",
    "\n",
    "def remove_redundancy_sent(test_email):\n",
    "    \n",
    "    x = re.sub(r'(Xref|Newsgroups|Path|From|Organization|Distribution|Message|Date|Message-ID|Followup-To|\\\n",
    "          |X-Newsreader|References|Rate|Lines|Sender|NNTP-Posting-Host|Nntp-Posting-Host|Reply-To|Keywords):.*','',test_email)\n",
    "    return re.sub(r'[^a-zA-Z.!?]',' ', x)\n",
    "\n",
    "def filter_words(noheader_email):\n",
    "    count=0\n",
    "    word_list=word_tokenize(noheader_email)\n",
    "    filtered_words = [word for word in word_list if word not in stopwords.words('english') and len(word) >2]\n",
    "    return filtered_words\n",
    "\n",
    "def filter_sent(noheader_email):\n",
    "    filtered_sents=sent_tokenize(noheader_email.encode('ascii', 'ignore'))\n",
    "    return filtered_sents\n",
    "\n",
    "def word_indicator(words, **kwargs):\n",
    "    features = []\n",
    "    for w in words:\n",
    "        features[w]=True\n",
    "    return features"
   ]
  },
  {
   "cell_type": "code",
   "execution_count": 14,
   "metadata": {
    "collapsed": false,
    "deletable": true,
    "editable": true
   },
   "outputs": [],
   "source": [
    "dataset_df['noheaders_emails'] = dataset_df['emails'].map(remove_redundancy_words)"
   ]
  },
  {
   "cell_type": "code",
   "execution_count": 15,
   "metadata": {
    "collapsed": false,
    "deletable": true,
    "editable": true
   },
   "outputs": [],
   "source": [
    "dataset_df['filtered_words'] = dataset_df['noheaders_emails'].map(filter_words)"
   ]
  },
  {
   "cell_type": "code",
   "execution_count": 16,
   "metadata": {
    "collapsed": false,
    "deletable": true,
    "editable": true
   },
   "outputs": [],
   "source": [
    "dataset_df['noheaders_emails2']=dataset_df['emails'].map(remove_redundancy_sent)"
   ]
  },
  {
   "cell_type": "code",
   "execution_count": 17,
   "metadata": {
    "collapsed": false,
    "deletable": true,
    "editable": true
   },
   "outputs": [],
   "source": [
    "dataset_df['filtered_sent'] = dataset_df['noheaders_emails2'].map(filter_sent)"
   ]
  },
  {
   "cell_type": "code",
   "execution_count": 18,
   "metadata": {
    "collapsed": true
   },
   "outputs": [],
   "source": [
    "dataset_df['serialized_words']=dataset_df['filtered_words'].map(lambda x: ' '.join(x))\n",
    "corpus=dataset_df['serialized_words'].tolist()"
   ]
  },
  {
   "cell_type": "markdown",
   "metadata": {
    "deletable": true,
    "editable": true
   },
   "source": [
    "### Save the data to csv file"
   ]
  },
  {
   "cell_type": "code",
   "execution_count": 19,
   "metadata": {
    "collapsed": true,
    "deletable": true,
    "editable": true
   },
   "outputs": [],
   "source": [
    "dataset_df.to_csv(\"nlp_training/out.csv\")"
   ]
  },
  {
   "cell_type": "markdown",
   "metadata": {},
   "source": [
    "### Checkpoint"
   ]
  },
  {
   "cell_type": "code",
   "execution_count": 2,
   "metadata": {
    "collapsed": true
   },
   "outputs": [],
   "source": [
    "if os.path.isfile(\"nlp_training/out.csv\"):\n",
    "    dataset_df=pd.read_csv(\"nlp_training/out.csv\")"
   ]
  },
  {
   "cell_type": "code",
   "execution_count": 3,
   "metadata": {
    "collapsed": true,
    "deletable": true,
    "editable": true
   },
   "outputs": [],
   "source": [
    "corpus=dataset_df['serialized_words'].tolist()"
   ]
  },
  {
   "cell_type": "code",
   "execution_count": 4,
   "metadata": {
    "collapsed": false,
    "deletable": true,
    "editable": true
   },
   "outputs": [],
   "source": [
    "count_vect = CountVectorizer()\n",
    "X_train_counts = count_vect.fit_transform(corpus)\n",
    "\n",
    "tfidf_transformer = TfidfTransformer()\n",
    "X_train_tfidf = tfidf_transformer.fit_transform(X_train_counts)\n",
    "\n",
    "tfidf_vectorizer = TfidfVectorizer(max_features=5000)\n",
    "tfidf_vectorizer.fit(corpus)\n",
    "X_tfidf_vect = tfidf_vectorizer.transform(corpus)"
   ]
  },
  {
   "cell_type": "code",
   "execution_count": 5,
   "metadata": {
    "collapsed": true
   },
   "outputs": [],
   "source": [
    "encoder = LabelEncoder()\n",
    "y_onehot = encoder.fit_transform(dataset_df['labels'].tolist())"
   ]
  },
  {
   "cell_type": "code",
   "execution_count": 6,
   "metadata": {
    "collapsed": false
   },
   "outputs": [],
   "source": [
    "tfidf_vectorizer.get_feature_names()\n",
    "df_examine=pd.DataFrame({'Features':tfidf_vectorizer.get_feature_names(),'importance':X_tfidf_vect})"
   ]
  },
  {
   "cell_type": "code",
   "execution_count": 107,
   "metadata": {
    "collapsed": false,
    "deletable": true,
    "editable": true
   },
   "outputs": [
    {
     "name": "stdout",
     "output_type": "stream",
     "text": [
      "15997\n",
      "4000\n"
     ]
    }
   ],
   "source": [
    "x_train, x_test, y_train, y_test = train_test_split(X_tfidf_vect,y_onehot, test_size = 0.2)\n",
    "\n",
    "print len(y_train)\n",
    "print len(y_test)"
   ]
  },
  {
   "cell_type": "code",
   "execution_count": 8,
   "metadata": {
    "collapsed": false,
    "deletable": true,
    "editable": true
   },
   "outputs": [],
   "source": [
    "clf = MultinomialNB().fit(x_train, y_train)"
   ]
  },
  {
   "cell_type": "code",
   "execution_count": 9,
   "metadata": {
    "collapsed": false,
    "deletable": true,
    "editable": true
   },
   "outputs": [],
   "source": [
    "features = df_examine['Features']\n",
    "ouput_labels = dataset_df['labels']"
   ]
  },
  {
   "cell_type": "markdown",
   "metadata": {
    "deletable": true,
    "editable": true
   },
   "source": [
    "### Test something"
   ]
  },
  {
   "cell_type": "code",
   "execution_count": 10,
   "metadata": {
    "collapsed": false,
    "deletable": true,
    "editable": true,
    "scrolled": true
   },
   "outputs": [],
   "source": [
    "# docs_new = ['have faith in God', 'GTX 1080 GPU is powerful']\n",
    "# # X_new_counts = count_vect.transform(docs_new)\n",
    "# # X_new_tfidf = tfidf_transformer.transform(X_new_counts)\n",
    "# X_train_tfidf = tfidf_vectorizer.fit_transform(docs_new)\n",
    "# print tfidf_vectorizer.get_feature_names()\n",
    "# print X_train_tfidf\n",
    "# predicted = clf.predict(X_train_tfidf)\n",
    "\n",
    "# for doc, category in zip(docs_new, predicted):\n",
    "#     print('%r => %s' % (doc, category))"
   ]
  },
  {
   "cell_type": "code",
   "execution_count": 11,
   "metadata": {
    "collapsed": false,
    "deletable": true,
    "editable": true
   },
   "outputs": [
    {
     "data": {
      "text/plain": [
       "0.83474999999999999"
      ]
     },
     "execution_count": 11,
     "metadata": {},
     "output_type": "execute_result"
    }
   ],
   "source": [
    "docs = x_test\n",
    "predicted = clf.predict(x_test)\n",
    "accuracy_score(predicted,y_test)\n"
   ]
  },
  {
   "cell_type": "code",
   "execution_count": 12,
   "metadata": {
    "collapsed": false,
    "deletable": true,
    "editable": true
   },
   "outputs": [
    {
     "data": {
      "text/plain": [
       "0.86075000000000002"
      ]
     },
     "execution_count": 12,
     "metadata": {},
     "output_type": "execute_result"
    }
   ],
   "source": [
    "clf = svm.LinearSVC()\n",
    "clf.fit(x_train, y_train)\n",
    "pred = clf.predict(x_test)\n",
    "accuracy_score(pred, y_test)"
   ]
  },
  {
   "cell_type": "code",
   "execution_count": 14,
   "metadata": {
    "collapsed": true,
    "deletable": true,
    "editable": true
   },
   "outputs": [],
   "source": [
    "def draw_confusion_matrices(confusion_matricies,class_names):\n",
    "    class_names = class_names.tolist()\n",
    "    for cm in confusion_matrices:\n",
    "        classifier, cm = cm[0], cm[1]\n",
    "        #print(cm)\n",
    "        \n",
    "        fig = plt.figure(figsize=(10,10))\n",
    "        ax = fig.add_subplot(111)\n",
    "        cax = ax.matshow(cm)\n",
    "        plt.title('Confusion matrix for %s' % classifier)\n",
    "        fig.colorbar(cax)\n",
    "        ax.set_xticklabels([''] + class_names)\n",
    "        ax.set_yticklabels([''] + class_names)\n",
    "        plt.xlabel('Predicted')\n",
    "        plt.ylabel('True')\n",
    "        plt.show()"
   ]
  },
  {
   "cell_type": "markdown",
   "metadata": {
    "deletable": true,
    "editable": true
   },
   "source": [
    "### Visualize confusion matrix"
   ]
  },
  {
   "cell_type": "code",
   "execution_count": 15,
   "metadata": {
    "collapsed": true,
    "deletable": true,
    "editable": true
   },
   "outputs": [
    {
     "data": {
      "image/png": "[encoded data removed]",
      "text/plain": [
       "<matplotlib.figure.Figure at 0x7f928b800a10>"
      ]
     },
     "metadata": {},
     "output_type": "display_data"
    }
   ],
   "source": [
    "\n",
    "class_names = np.unique(np.array(dataset_df['labels']))\n",
    "confusion_matrices = [\n",
    "    ( \"Linear SVM\", confusion_matrix(y_test, pred)),\n",
    "    ]\n",
    "draw_confusion_matrices(confusion_matrices,class_names)"
   ]
  },
  {
   "cell_type": "code",
   "execution_count": 108,
   "metadata": {
    "collapsed": true
   },
   "outputs": [],
   "source": [
    "x_Train, x_val, y_Train, y_val = train_test_split(x_train,y_train, test_size = 0.1)"
   ]
  },
  {
   "cell_type": "code",
   "execution_count": 137,
   "metadata": {
    "collapsed": false
   },
   "outputs": [],
   "source": [
    "def batch_generator(X, y, batch_size,samples_per_epoch):\n",
    "    number_of_batches = (samples_per_epoch)/batch_size\n",
    "    counter=0\n",
    "    shuffle_index = np.arange(np.shape(y)[0])\n",
    "    np.random.shuffle(shuffle_index)\n",
    "    X =  X[shuffle_index, :]\n",
    "    y =  y[shuffle_index]\n",
    "    while 1:\n",
    "        index_batch = shuffle_index[batch_size*counter:batch_size*(counter+1)]\n",
    "        X_batch = X[index_batch,:].todense()\n",
    "        y_batch = y[index_batch]\n",
    "        counter += 1\n",
    "        yield(np.array(X_batch),y_batch)\n",
    "        if (counter < number_of_batches):\n",
    "            np.random.shuffle(shuffle_index)\n",
    "            counter=0"
   ]
  },
  {
   "cell_type": "code",
   "execution_count": 164,
   "metadata": {
    "collapsed": false
   },
   "outputs": [],
   "source": [
    "model = Sequential()\n",
    "model.add(Dense(1024,input_dim=5000, init='normal', activation='relu'))\n",
    "model.add(Dropout(.2))\n",
    "model.add(Dense(512, init='normal', activation='relu'))\n",
    "model.add(Dropout(.2))\n",
    "model.add(Dense(256, init='normal', activation='relu'))\n",
    "model.add(Dropout(.2))\n",
    "model.add(Dense(128, init='normal', activation='relu'))\n",
    "model.add(Dropout(.2))\n",
    "model.add(Dense(20, init='normal', activation='softmax'))\n",
    "# Compile model\n",
    "model.compile(loss='sparse_categorical_crossentropy', optimizer='adam', metrics=['accuracy'])"
   ]
  },
  {
   "cell_type": "code",
   "execution_count": 165,
   "metadata": {
    "collapsed": false
   },
   "outputs": [],
   "source": [
    "#model.fit(x_train.toarray(),y_train,nb_epoch=10,batch_size=32)"
   ]
  },
  {
   "cell_type": "code",
   "execution_count": 171,
   "metadata": {
    "collapsed": false
   },
   "outputs": [
    {
     "name": "stdout",
     "output_type": "stream",
     "text": [
      "Epoch 1/25\n",
      "12800/12797 [==============================] - 16s - loss: 0.0546 - acc: 0.9773 - val_loss: 0.8785 - val_acc: 0.8191\n",
      "Epoch 2/25\n",
      "12800/12797 [==============================] - 15s - loss: 0.0576 - acc: 0.9773 - val_loss: 0.8918 - val_acc: 0.8144\n",
      "Epoch 3/25\n",
      "12800/12797 [==============================] - 17s - loss: 0.0569 - acc: 0.9756 - val_loss: 0.8483 - val_acc: 0.8297\n",
      "Epoch 4/25\n",
      "12800/12797 [==============================] - 14s - loss: 0.0490 - acc: 0.9783 - val_loss: 1.0411 - val_acc: 0.8056\n",
      "Epoch 5/25\n",
      "12800/12797 [==============================] - 15s - loss: 0.0468 - acc: 0.9787 - val_loss: 0.9760 - val_acc: 0.8128\n",
      "Epoch 6/25\n",
      "12800/12797 [==============================] - 15s - loss: 0.0487 - acc: 0.9777 - val_loss: 0.9892 - val_acc: 0.8191\n",
      "Epoch 7/25\n",
      "12800/12797 [==============================] - 15s - loss: 0.0434 - acc: 0.9799 - val_loss: 0.9852 - val_acc: 0.8219\n",
      "Epoch 8/25\n",
      "12800/12797 [==============================] - 14s - loss: 0.0438 - acc: 0.9784 - val_loss: 1.1411 - val_acc: 0.8147\n",
      "Epoch 9/25\n",
      "12800/12797 [==============================] - 14s - loss: 0.0439 - acc: 0.9795 - val_loss: 1.0516 - val_acc: 0.8191\n",
      "Epoch 10/25\n",
      "12800/12797 [==============================] - 13s - loss: 0.0436 - acc: 0.9795 - val_loss: 1.0964 - val_acc: 0.8128\n",
      "Epoch 11/25\n",
      "12800/12797 [==============================] - 13s - loss: 0.0465 - acc: 0.9786 - val_loss: 1.1368 - val_acc: 0.8200\n",
      "Epoch 12/25\n",
      "12800/12797 [==============================] - 13s - loss: 0.0458 - acc: 0.9776 - val_loss: 1.1097 - val_acc: 0.7997\n",
      "Epoch 13/25\n",
      "12800/12797 [==============================] - 14s - loss: 0.0474 - acc: 0.9768 - val_loss: 1.0450 - val_acc: 0.8187\n",
      "Epoch 14/25\n",
      "12800/12797 [==============================] - 13s - loss: 0.0500 - acc: 0.9756 - val_loss: 1.0600 - val_acc: 0.8141\n",
      "Epoch 15/25\n",
      "12800/12797 [==============================] - 12s - loss: 0.0439 - acc: 0.9780 - val_loss: 1.1594 - val_acc: 0.8013\n",
      "Epoch 16/25\n",
      "12800/12797 [==============================] - 11s - loss: 0.0432 - acc: 0.9788 - val_loss: 1.2150 - val_acc: 0.8041\n",
      "Epoch 17/25\n",
      "12800/12797 [==============================] - 11s - loss: 0.0472 - acc: 0.9759 - val_loss: 1.2327 - val_acc: 0.7987\n",
      "Epoch 18/25\n",
      "12800/12797 [==============================] - 11s - loss: 0.0384 - acc: 0.9795 - val_loss: 1.2391 - val_acc: 0.7994\n",
      "Epoch 19/25\n",
      "12800/12797 [==============================] - 11s - loss: 0.0428 - acc: 0.9773 - val_loss: 1.2872 - val_acc: 0.8000\n",
      "Epoch 20/25\n",
      "12800/12797 [==============================] - 11s - loss: 0.0414 - acc: 0.9780 - val_loss: 1.2273 - val_acc: 0.8050\n",
      "Epoch 21/25\n",
      "12800/12797 [==============================] - 11s - loss: 0.0394 - acc: 0.9789 - val_loss: 1.2707 - val_acc: 0.8050\n",
      "Epoch 22/25\n",
      "12800/12797 [==============================] - 11s - loss: 0.0347 - acc: 0.9809 - val_loss: 1.2552 - val_acc: 0.8113\n",
      "Epoch 23/25\n",
      "12800/12797 [==============================] - 11s - loss: 0.0368 - acc: 0.9787 - val_loss: 1.1801 - val_acc: 0.8163\n",
      "Epoch 24/25\n",
      "12800/12797 [==============================] - 11s - loss: 0.0398 - acc: 0.9783 - val_loss: 1.2481 - val_acc: 0.8066\n",
      "Epoch 25/25\n",
      "12800/12797 [==============================] - 11s - loss: 0.0406 - acc: 0.9766 - val_loss: 1.4225 - val_acc: 0.8153\n"
     ]
    },
    {
     "data": {
      "text/plain": [
       "<keras.callbacks.History at 0x7f92229354d0>"
      ]
     },
     "execution_count": 171,
     "metadata": {},
     "output_type": "execute_result"
    }
   ],
   "source": [
    "model.fit_generator(generator=batch_generator(x_Train, y_Train, 128,x_Train.shape[0]),\n",
    "                    nb_epoch=25, samples_per_epoch=x_Train.shape[0],\n",
    "                    validation_data=batch_generator(x_val, y_val, 128,x_val.shape[0]), nb_val_samples=x_val.shape[0])"
   ]
  },
  {
   "cell_type": "code",
   "execution_count": 170,
   "metadata": {
    "collapsed": false
   },
   "outputs": [
    {
     "name": "stdout",
     "output_type": "stream",
     "text": [
      "3872/4000 [============================>.] - ETA: 0s[0.83912400352954863, 0.81850000000000001]\n"
     ]
    }
   ],
   "source": [
    "loss_and_metrics = model.evaluate(x_test.toarray(), y_test, batch_size=32)\n",
    "print loss_and_metrics"
   ]
  },
  {
   "cell_type": "code",
   "execution_count": 168,
   "metadata": {
    "collapsed": false
   },
   "outputs": [
    {
     "name": "stdout",
     "output_type": "stream",
     "text": [
      "3904/4000 [============================>.] - ETA: 0s"
     ]
    }
   ],
   "source": [
    "pred=model.predict_classes(x_test.toarray())"
   ]
  },
  {
   "cell_type": "code",
   "execution_count": 169,
   "metadata": {
    "collapsed": false
   },
   "outputs": [
    {
     "data": {
      "image/png": "[encoded data removed]",
      "text/plain": [
       "<matplotlib.figure.Figure at 0x7f9223b3bd90>"
      ]
     },
     "metadata": {},
     "output_type": "display_data"
    }
   ],
   "source": [
    "class_names = np.unique(np.array(y_test))\n",
    "confusion_matrices = [\n",
    "    ( \"Neural Net\", confusion_matrix(y_test, pred)),\n",
    "    ]\n",
    "draw_confusion_matrices(confusion_matrices,class_names)"
   ]
  },
  {
   "cell_type": "code",
   "execution_count": 202,
   "metadata": {
    "collapsed": false
   },
   "outputs": [
    {
     "data": {
      "text/plain": [
       "15997"
      ]
     },
     "execution_count": 202,
     "metadata": {},
     "output_type": "execute_result"
    }
   ],
   "source": []
  },
  {
   "cell_type": "code",
   "execution_count": 233,
   "metadata": {
    "collapsed": false
   },
   "outputs": [
    {
     "data": {
      "text/plain": [
       "array([ 7,  3,  3, ..., 19, 17,  2])"
      ]
     },
     "execution_count": 233,
     "metadata": {},
     "output_type": "execute_result"
    }
   ],
   "source": [
    "y_val"
   ]
  },
  {
   "cell_type": "code",
   "execution_count": null,
   "metadata": {
    "collapsed": true
   },
   "outputs": [],
   "source": []
  }
 ],
 "metadata": {
  "anaconda-cloud": {},
  "kernelspec": {
   "display_name": "Python [default]",
   "language": "python",
   "name": "python2"
  },
  "language_info": {
   "codemirror_mode": {
    "name": "ipython",
    "version": 2
   },
   "file_extension": ".py",
   "mimetype": "text/x-python",
   "name": "python",
   "nbconvert_exporter": "python",
   "pygments_lexer": "ipython2",
   "version": "2.7.12"
  }
 },
 "nbformat": 4,
 "nbformat_minor": 1
}
