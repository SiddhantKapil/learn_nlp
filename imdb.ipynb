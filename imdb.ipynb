{
 "cells": [
  {
   "cell_type": "markdown",
   "metadata": {},
   "source": [
    "# Word Embedding/ Word Vectors"
   ]
  },
  {
   "cell_type": "code",
   "execution_count": 1,
   "metadata": {
    "collapsed": false
   },
   "outputs": [
    {
     "name": "stderr",
     "output_type": "stream",
     "text": [
      "Using TensorFlow backend.\n"
     ]
    }
   ],
   "source": [
    "from keras.models import Sequential\n",
    "from keras.layers import Embedding\n",
    "from mpl_toolkits.mplot3d import Axes3D\n",
    "import numpy as np\n",
    "import random\n",
    "model = Sequential()\n",
    "model.add(Embedding(1000, 2 ,input_length=1,))\n",
    "#model.compile('adam','mse')\n",
    "\n",
    "input_array = np.random.randint(1000,size=(32,1))\n",
    "output_array = model.predict(input_array)\n",
    "\n",
    "x_input_array = np.array([[5]])\n",
    "y_input_array = np.array([[5]])"
   ]
  },
  {
   "cell_type": "code",
   "execution_count": 2,
   "metadata": {
    "collapsed": false
   },
   "outputs": [
    {
     "name": "stdout",
     "output_type": "stream",
     "text": [
      "[[[ 0.03489813 -0.02883419]]]\n",
      "[[[ 0.03489813 -0.02883419]]]\n"
     ]
    }
   ],
   "source": [
    "#input_array\n",
    "#output_array\n",
    "print model.predict(x_input_array)\n",
    "print model.predict(y_input_array)"
   ]
  },
  {
   "cell_type": "code",
   "execution_count": 3,
   "metadata": {
    "collapsed": false
   },
   "outputs": [
    {
     "name": "stdout",
     "output_type": "stream",
     "text": [
      "(25000,) (25000,) (25000,) (25000,)\n"
     ]
    }
   ],
   "source": [
    "from keras.datasets import imdb\n",
    "\n",
    "nb_features = 500\n",
    "(trainX,trainY),(testX,testY) = imdb.load_data(nb_words=nb_features)\n",
    "print trainX.shape,trainY.shape,testX.shape, testY.shape"
   ]
  },
  {
   "cell_type": "code",
   "execution_count": 4,
   "metadata": {
    "collapsed": true
   },
   "outputs": [],
   "source": [
    "from keras.utils.data_utils import get_file\n",
    "from keras.datasets import imdb\n",
    "import pickle \n",
    "import numpy as np\n",
    "path = get_file('imdb_full.pkl',\n",
    "                origin='https://s3.amazonaws.com/text-datasets/imdb_full.pkl',\n",
    "                md5_hash='d091312047c43cf9e4e38fef92437263')\n",
    "f = open(path, 'rb')\n",
    "(train_X, train_Y), (test_X, test_Y) = pickle.load(f)"
   ]
  },
  {
   "cell_type": "code",
   "execution_count": 5,
   "metadata": {
    "collapsed": false
   },
   "outputs": [],
   "source": [
    "wordidx = imdb.get_word_index()\n",
    "idx2word = {i:w for w,i in wordidx.items()}"
   ]
  },
  {
   "cell_type": "code",
   "execution_count": 6,
   "metadata": {
    "collapsed": false
   },
   "outputs": [
    {
     "name": "stdout",
     "output_type": "stream",
     "text": [
      "69 2569 469.51784\n"
     ]
    }
   ],
   "source": [
    "length_data = [len(s) for s in trainX + testX]\n",
    "print min(length_data),max(length_data),np.mean(length_data)"
   ]
  },
  {
   "cell_type": "code",
   "execution_count": 7,
   "metadata": {
    "collapsed": false
   },
   "outputs": [
    {
     "name": "stdout",
     "output_type": "stream",
     "text": [
      "(25000, 500) (25000, 500)\n"
     ]
    }
   ],
   "source": [
    "from keras.preprocessing.sequence import pad_sequences\n",
    "from keras.preprocessing.text import Tokenizer\n",
    "\n",
    "sequence_length = 500\n",
    "\n",
    "trainX_sequences = pad_sequences(trainX, maxlen=sequence_length,value=0)\n",
    "testX_sequences = pad_sequences(testX,maxlen=sequence_length,value=0)\n",
    "print trainX_sequences.shape,testX_sequences.shape"
   ]
  },
  {
   "cell_type": "code",
   "execution_count": 8,
   "metadata": {
    "collapsed": true
   },
   "outputs": [],
   "source": [
    "from keras.utils import np_utils\n",
    "\n",
    "trainY_onehot = np_utils.to_categorical(trainY)\n",
    "testY_onehot = np_utils.to_categorical(testY)"
   ]
  },
  {
   "cell_type": "markdown",
   "metadata": {},
   "source": [
    "# Simple Dense Model"
   ]
  },
  {
   "cell_type": "code",
   "execution_count": 77,
   "metadata": {
    "collapsed": false
   },
   "outputs": [
    {
     "name": "stdout",
     "output_type": "stream",
     "text": [
      "____________________________________________________________________________________________________\n",
      "Layer (type)                     Output Shape          Param #     Connected to                     \n",
      "====================================================================================================\n",
      "input_4 (InputLayer)             (None, 500)           0                                            \n",
      "____________________________________________________________________________________________________\n",
      "embedding_8 (Embedding)          (None, 500, 32)       160000      input_4[0][0]                    \n",
      "____________________________________________________________________________________________________\n",
      "flatten_3 (Flatten)              (None, 16000)         0           embedding_8[0][0]                \n",
      "____________________________________________________________________________________________________\n",
      "dense_5 (Dense)                  (None, 100)           1600100     flatten_3[0][0]                  \n",
      "____________________________________________________________________________________________________\n",
      "dense_6 (Dense)                  (None, 2)             202         dense_5[0][0]                    \n",
      "====================================================================================================\n",
      "Total params: 1,760,302\n",
      "Trainable params: 1,760,302\n",
      "Non-trainable params: 0\n",
      "____________________________________________________________________________________________________\n"
     ]
    }
   ],
   "source": [
    "from keras.models import Model\n",
    "from keras.layers import Input,Embedding,Dense, Flatten\n",
    "from keras.callbacks import ModelCheckpoint, EarlyStopping, LearningRateScheduler\n",
    "\n",
    "\n",
    "seq_input = Input(shape=(sequence_length,))\n",
    "\n",
    "embedded_input = Embedding(nb_features,32,input_length=sequence_length)(seq_input)\n",
    "\n",
    "flatten_vectors = Flatten()(embedded_input)\n",
    "\n",
    "hidden_layer = Dense(100,activation='relu')(flatten_vectors)\n",
    "output_layer = Dense(2,activation='softmax')(hidden_layer)\n",
    "\n",
    "weight_checkpoint = ModelCheckpoint('best_validation_accuracy.h5',monitor='val_loss',mode='auto')\n",
    "\n",
    "model = Model(input=seq_input, output = output_layer)\n",
    "\n",
    "model.compile(loss='categorical_crossentropy',optimizer='adam', metrics=['accuracy'])\n",
    "model.summary()"
   ]
  },
  {
   "cell_type": "code",
   "execution_count": 78,
   "metadata": {
    "collapsed": false
   },
   "outputs": [
    {
     "name": "stdout",
     "output_type": "stream",
     "text": [
      "Train on 25000 samples, validate on 25000 samples\n",
      "Epoch 1/5\n",
      "2s - loss: 0.4135 - acc: 0.7926 - val_loss: 0.2922 - val_acc: 0.8770\n",
      "Epoch 2/5\n",
      "2s - loss: 0.1362 - acc: 0.9504 - val_loss: 0.3957 - val_acc: 0.8538\n",
      "Epoch 3/5\n",
      "2s - loss: 0.0277 - acc: 0.9918 - val_loss: 0.5089 - val_acc: 0.8553\n",
      "Epoch 4/5\n",
      "2s - loss: 0.0044 - acc: 0.9995 - val_loss: 0.6053 - val_acc: 0.8578\n",
      "Epoch 5/5\n",
      "2s - loss: 6.7327e-04 - acc: 1.0000 - val_loss: 0.6672 - val_acc: 0.8595\n"
     ]
    },
    {
     "data": {
      "text/plain": [
       "<keras.callbacks.History at 0x7f85acd6b990>"
      ]
     },
     "execution_count": 78,
     "metadata": {},
     "output_type": "execute_result"
    }
   ],
   "source": [
    "model.fit(trainX_sequences,trainY_onehot,\n",
    "          nb_epoch=5,batch_size=64,\n",
    "          validation_data=(testX_sequences,testY_onehot),\n",
    "          verbose=2, \n",
    "          callbacks=[weight_checkpoint])"
   ]
  },
  {
   "cell_type": "code",
   "execution_count": 79,
   "metadata": {
    "collapsed": false
   },
   "outputs": [
    {
     "data": {
      "text/plain": [
       "0.85948000000000002"
      ]
     },
     "execution_count": 79,
     "metadata": {},
     "output_type": "execute_result"
    }
   ],
   "source": [
    "from sklearn.metrics import accuracy_score\n",
    "\n",
    "accuracy_score(np.argmax(model.predict(testX_sequences),axis=1), testY)"
   ]
  },
  {
   "cell_type": "markdown",
   "metadata": {},
   "source": [
    "# Convolutional Neural Net"
   ]
  },
  {
   "cell_type": "code",
   "execution_count": 80,
   "metadata": {
    "collapsed": false
   },
   "outputs": [
    {
     "name": "stdout",
     "output_type": "stream",
     "text": [
      "____________________________________________________________________________________________________\n",
      "Layer (type)                     Output Shape          Param #     Connected to                     \n",
      "====================================================================================================\n",
      "input_5 (InputLayer)             (None, 500)           0                                            \n",
      "____________________________________________________________________________________________________\n",
      "embedding_9 (Embedding)          (None, 500, 32)       160000      input_5[0][0]                    \n",
      "____________________________________________________________________________________________________\n",
      "convolution1d_2 (Convolution1D)  (None, 500, 64)       10304       embedding_9[0][0]                \n",
      "____________________________________________________________________________________________________\n",
      "dropout_3 (Dropout)              (None, 500, 64)       0           convolution1d_2[0][0]            \n",
      "____________________________________________________________________________________________________\n",
      "maxpooling1d_2 (MaxPooling1D)    (None, 250, 64)       0           dropout_3[0][0]                  \n",
      "____________________________________________________________________________________________________\n",
      "flatten_4 (Flatten)              (None, 16000)         0           maxpooling1d_2[0][0]             \n",
      "____________________________________________________________________________________________________\n",
      "dense_7 (Dense)                  (None, 100)           1600100     flatten_4[0][0]                  \n",
      "____________________________________________________________________________________________________\n",
      "dropout_4 (Dropout)              (None, 100)           0           dense_7[0][0]                    \n",
      "____________________________________________________________________________________________________\n",
      "dense_8 (Dense)                  (None, 2)             202         dropout_4[0][0]                  \n",
      "====================================================================================================\n",
      "Total params: 1,770,606\n",
      "Trainable params: 1,770,606\n",
      "Non-trainable params: 0\n",
      "____________________________________________________________________________________________________\n"
     ]
    }
   ],
   "source": [
    "from keras.layers import Convolution1D, MaxPooling1D, Dropout, Conv1D\n",
    "\n",
    "seq_input = Input(shape=(sequence_length,))\n",
    "\n",
    "embedded_input = Embedding(nb_features,32,input_length=sequence_length,dropout=0.2)(seq_input)\n",
    "\n",
    "conv1 = Conv1D(64,5,border_mode='same',activation='relu')(embedded_input)\n",
    "\n",
    "dropout = Dropout(0.2)(conv1)\n",
    "\n",
    "max_pooling1 = MaxPooling1D()(dropout)\n",
    "\n",
    "flatten1 = Flatten()(max_pooling1)\n",
    "\n",
    "dense1 = Dense(100,activation='relu')(flatten1)\n",
    "dropout2 = Dropout(0.7)(dense1)\n",
    "outcome = Dense(2,activation='softmax')(dropout2)\n",
    "\n",
    "model = Model(input=seq_input, output=outcome)\n",
    "\n",
    "model.compile(loss='categorical_crossentropy',optimizer='adam',metrics=['accuracy'])\n",
    "model.summary()"
   ]
  },
  {
   "cell_type": "code",
   "execution_count": 81,
   "metadata": {
    "collapsed": false
   },
   "outputs": [
    {
     "name": "stdout",
     "output_type": "stream",
     "text": [
      "Train on 25000 samples, validate on 25000 samples\n",
      "Epoch 1/5\n",
      "6s - loss: 0.4882 - acc: 0.7303 - val_loss: 0.2665 - val_acc: 0.8902\n",
      "Epoch 2/5\n",
      "6s - loss: 0.2929 - acc: 0.8848 - val_loss: 0.2559 - val_acc: 0.8966\n",
      "Epoch 3/5\n",
      "6s - loss: 0.2523 - acc: 0.9014 - val_loss: 0.2571 - val_acc: 0.8940\n",
      "Epoch 4/5\n",
      "6s - loss: 0.2328 - acc: 0.9106 - val_loss: 0.2525 - val_acc: 0.8953\n",
      "Epoch 5/5\n",
      "6s - loss: 0.2155 - acc: 0.9151 - val_loss: 0.2662 - val_acc: 0.8882\n"
     ]
    },
    {
     "data": {
      "text/plain": [
       "<keras.callbacks.History at 0x7f85ac5d1b50>"
      ]
     },
     "execution_count": 81,
     "metadata": {},
     "output_type": "execute_result"
    }
   ],
   "source": [
    "model.fit(trainX_sequences,trainY_onehot,\n",
    "          nb_epoch=5,batch_size=64,\n",
    "          validation_data=(testX_sequences,testY_onehot),\n",
    "          verbose=2, \n",
    "          callbacks=[weight_checkpoint])"
   ]
  },
  {
   "cell_type": "code",
   "execution_count": 82,
   "metadata": {
    "collapsed": true
   },
   "outputs": [],
   "source": [
    "emb_model = Model(input=seq_input,output=embedded_input)\n"
   ]
  },
  {
   "cell_type": "code",
   "execution_count": 83,
   "metadata": {
    "collapsed": false
   },
   "outputs": [
    {
     "data": {
      "text/plain": [
       "array([[[ 0.02071318, -0.00644336,  0.03133474, ...,  0.00569983,\n",
       "          0.01214417, -0.015577  ],\n",
       "        [ 0.02071318, -0.00644336,  0.03133474, ...,  0.00569983,\n",
       "          0.01214417, -0.015577  ],\n",
       "        [ 0.02071318, -0.00644336,  0.03133474, ...,  0.00569983,\n",
       "          0.01214417, -0.015577  ],\n",
       "        ..., \n",
       "        [-0.01231275,  0.02613163,  0.0322069 , ...,  0.06544612,\n",
       "          0.05012892, -0.00887723],\n",
       "        [ 0.0458912 , -0.01760099,  0.01300736, ..., -0.06980281,\n",
       "         -0.04653062, -0.01604181],\n",
       "        [ 0.02704358, -0.03128574, -0.01936052, ..., -0.01234974,\n",
       "         -0.04732128, -0.00144164]]], dtype=float32)"
      ]
     },
     "execution_count": 83,
     "metadata": {},
     "output_type": "execute_result"
    }
   ],
   "source": [
    "emb_model.predict(trainX_sequences[:1])"
   ]
  },
  {
   "cell_type": "markdown",
   "metadata": {
    "collapsed": true
   },
   "source": [
    "# Read The Glove Embeddings"
   ]
  },
  {
   "cell_type": "code",
   "execution_count": 64,
   "metadata": {
    "collapsed": false
   },
   "outputs": [
    {
     "name": "stdout",
     "output_type": "stream",
     "text": [
      "(400000,)\n"
     ]
    }
   ],
   "source": [
    "#Read the 50d word embedding\n",
    "fh = open('nlp_training/glove.6B/glove.6B.300d.txt','r')\n",
    "data  = fh.readlines()\n",
    "print np.array(data).shape\n",
    "fh.close()\n",
    "\n",
    "word_embeddings = {}\n",
    "words = []\n",
    "for line in data:\n",
    "    list_of_things = line.strip().split()\n",
    "    word_embeddings[str(list_of_things[0])] =  np.asarray(list_of_things[1:],dtype='float32')\n",
    "    words.append(list_of_things[0])"
   ]
  },
  {
   "cell_type": "code",
   "execution_count": 65,
   "metadata": {
    "collapsed": false
   },
   "outputs": [
    {
     "data": {
      "text/plain": [
       "5.966258"
      ]
     },
     "execution_count": 65,
     "metadata": {},
     "output_type": "execute_result"
    }
   ],
   "source": [
    "np.linalg.norm(word_embeddings['king'] - word_embeddings['queen'] )"
   ]
  },
  {
   "cell_type": "code",
   "execution_count": 66,
   "metadata": {
    "collapsed": false
   },
   "outputs": [
    {
     "data": {
      "text/plain": [
       "4.7539396"
      ]
     },
     "execution_count": 66,
     "metadata": {},
     "output_type": "execute_result"
    }
   ],
   "source": [
    "np.linalg.norm((word_embeddings['man'] - word_embeddings['woman']))"
   ]
  },
  {
   "cell_type": "code",
   "execution_count": 67,
   "metadata": {
    "collapsed": false
   },
   "outputs": [
    {
     "data": {
      "text/plain": [
       "3.1520464"
      ]
     },
     "execution_count": 67,
     "metadata": {},
     "output_type": "execute_result"
    }
   ],
   "source": [
    "np.linalg.norm((word_embeddings['husband'] - word_embeddings['wife']))"
   ]
  },
  {
   "cell_type": "code",
   "execution_count": 68,
   "metadata": {
    "collapsed": false
   },
   "outputs": [
    {
     "data": {
      "text/plain": [
       "5.4631982"
      ]
     },
     "execution_count": 68,
     "metadata": {},
     "output_type": "execute_result"
    }
   ],
   "source": [
    "np.linalg.norm((word_embeddings['brother'] - word_embeddings['sister']))"
   ]
  },
  {
   "cell_type": "code",
   "execution_count": 118,
   "metadata": {
    "collapsed": false
   },
   "outputs": [],
   "source": [
    "from sklearn.manifold import TSNE\n",
    "from sklearn.decomposition import PCA\n",
    "word_list = ['king','husband','man','wife','woman','queen','he','she']#words[:100]\n",
    "embedding_list = np.array([word_embeddings[wrd]for wrd in word_list])\n",
    "random.seed(0)\n",
    "tsne = PCA(n_components=3)\n",
    "final_vectors = tsne.fit_transform(embedding_list)\n",
    "\n",
    "viz_x = [float(x[0]) for x in final_vectors]\n",
    "viz_y = [float(x[1]) for x in final_vectors]\n",
    "viz_z = [float(x[2]) for x in final_vectors]"
   ]
  },
  {
   "cell_type": "code",
   "execution_count": 119,
   "metadata": {
    "collapsed": false,
    "scrolled": true
   },
   "outputs": [
    {
     "data": {
      "image/png": "[encoded data removed]",
      "text/plain": [
       "<matplotlib.figure.Figure at 0x7ff581e61c90>"
      ]
     },
     "metadata": {},
     "output_type": "display_data"
    }
   ],
   "source": [
    "import matplotlib.pyplot as plt\n",
    "%matplotlib inline\n",
    "fig = plt.figure()\n",
    "ax = fig.add_subplot(111,projection='3d')\n",
    "# ax.scatter3d\n",
    "ax.scatter(viz_x, viz_y,viz_z)\n",
    "\n",
    "for i, txt in enumerate(word_list):\n",
    "    ax.text(viz_x[i], viz_y[i],viz_z[i],  '%s' % (str(word_list[i])), size=10, zorder=1,  \n",
    "     color='k')"
   ]
  },
  {
   "cell_type": "code",
   "execution_count": 91,
   "metadata": {
    "collapsed": true
   },
   "outputs": [],
   "source": [
    "wordidx = imdb.get_word_index()\n",
    "idx2word = {i:w for w,i in wordidx.items()}"
   ]
  },
  {
   "cell_type": "code",
   "execution_count": 92,
   "metadata": {
    "collapsed": false
   },
   "outputs": [
    {
     "data": {
      "text/plain": [
       "1"
      ]
     },
     "execution_count": 92,
     "metadata": {},
     "output_type": "execute_result"
    }
   ],
   "source": [
    "np.min(np.array(wordidx.values()))"
   ]
  },
  {
   "cell_type": "code",
   "execution_count": 93,
   "metadata": {
    "collapsed": false
   },
   "outputs": [],
   "source": [
    "EMBEDDING_DIMENSIONS = 50\n",
    "nb_features = 5000\n",
    "\n",
    "embedding_matrix = np.zeros((nb_features+1,EMBEDDING_DIMENSIONS))\n",
    "\n",
    "for i in range(1,nb_features+1):\n",
    "    selected_word = idx2word[i]\n",
    "    #if selected_word in word_embeddings.keys():\n",
    "    embedding_matrix[i] = word_embeddings.get(selected_word\n",
    "    else:\n",
    "        #print selected_word, \"Not Present\"\n",
    "        embedding_matrix[i] = np.random.normal(loc = 0.0, scale=0.6, size=(EMBEDDING_DIMENSIONS,))\n",
    "        "
   ]
  },
  {
   "cell_type": "code",
   "execution_count": 104,
   "metadata": {
    "collapsed": false
   },
   "outputs": [],
   "source": [
    "from keras.layers import Convolution1D,MaxPooling1D, Dropout,Conv1D\n",
    "from keras.callbacks import ModelCheckpoint\n",
    "\n",
    "seq_input = Input(shape=(sequence_length,),dtype='int32')\n",
    "\n",
    "embedded_input = Embedding((nb_features+1),EMBEDDING_DIMENSIONS,\n",
    "                           weights=[embedding_matrix],\n",
    "                           input_length=sequence_length,\n",
    "                           trainable=False)(seq_input)\n",
    "\n",
    "conv1 = Conv1D(64,5,border_mode='same',activation='relu')(embedded_input)\n",
    "dropout1 = Dropout(0.2)(conv1)\n",
    "max_pooling1 = MaxPooling1D()(dropout1)\n",
    "flatten1 = Flatten()(max_pooling1)\n",
    "dense1 = Dense(100,activation='relu')(flatten1)\n",
    "dropout2 = Dropout(0.7)(dense1)\n",
    "outcome = Dense(2,activation='softmax')(dropout2)\n",
    "\n",
    "model = Model(input=seq_input, output=outcome)\n",
    "#weight_checkpoint = ModelCheckpoint('best_validation_loss.h5',monitor='val_acc',mode='max')\n",
    "model.compile(loss='categorical_crossentropy',optimizer='adam',metrics=['accuracy'])"
   ]
  },
  {
   "cell_type": "code",
   "execution_count": 105,
   "metadata": {
    "collapsed": false
   },
   "outputs": [
    {
     "name": "stdout",
     "output_type": "stream",
     "text": [
      "Train on 25000 samples, validate on 25000 samples\n",
      "Epoch 1/5\n",
      "5s - loss: 0.6815 - acc: 0.5261 - val_loss: 0.6668 - val_acc: 0.5430\n",
      "Epoch 2/5\n",
      "5s - loss: 0.6425 - acc: 0.6054 - val_loss: 0.6264 - val_acc: 0.6228\n",
      "Epoch 3/5\n",
      "5s - loss: 0.6034 - acc: 0.6579 - val_loss: 0.6111 - val_acc: 0.6395\n",
      "Epoch 4/5\n",
      "5s - loss: 0.5551 - acc: 0.7015 - val_loss: 0.5965 - val_acc: 0.6630\n",
      "Epoch 5/5\n",
      "5s - loss: 0.5075 - acc: 0.7408 - val_loss: 0.5892 - val_acc: 0.6790\n"
     ]
    },
    {
     "data": {
      "text/plain": [
       "<keras.callbacks.History at 0x7f85bffbfe90>"
      ]
     },
     "execution_count": 105,
     "metadata": {},
     "output_type": "execute_result"
    }
   ],
   "source": [
    "model.fit(trainX_sequences,trainY_onehot,nb_epoch=5,batch_size=64,\n",
    "          validation_data = (testX_sequences,testY_onehot),verbose=2)"
   ]
  },
  {
   "cell_type": "code",
   "execution_count": 106,
   "metadata": {
    "collapsed": false
   },
   "outputs": [],
   "source": [
    "model.layers[1].trainable = True"
   ]
  },
  {
   "cell_type": "code",
   "execution_count": 107,
   "metadata": {
    "collapsed": false
   },
   "outputs": [
    {
     "name": "stdout",
     "output_type": "stream",
     "text": [
      "Train on 25000 samples, validate on 25000 samples\n",
      "Epoch 1/1\n",
      "5s - loss: 0.4582 - acc: 0.7724 - val_loss: 0.6010 - val_acc: 0.6771\n"
     ]
    },
    {
     "data": {
      "text/plain": [
       "<keras.callbacks.History at 0x7f85c014e850>"
      ]
     },
     "execution_count": 107,
     "metadata": {},
     "output_type": "execute_result"
    }
   ],
   "source": [
    "model.fit(trainX_sequences,trainY_onehot,nb_epoch=1,batch_size=64,\n",
    "          validation_data = (testX_sequences,testY_onehot),verbose=2)"
   ]
  },
  {
   "cell_type": "code",
   "execution_count": 108,
   "metadata": {
    "collapsed": false
   },
   "outputs": [
    {
     "name": "stdout",
     "output_type": "stream",
     "text": [
      "Train on 25000 samples, validate on 25000 samples\n",
      "Epoch 1/1\n",
      "5s - loss: 0.4104 - acc: 0.8035 - val_loss: 0.6159 - val_acc: 0.6753\n"
     ]
    },
    {
     "data": {
      "text/plain": [
       "<keras.callbacks.History at 0x7f85c014e0d0>"
      ]
     },
     "execution_count": 108,
     "metadata": {},
     "output_type": "execute_result"
    }
   ],
   "source": [
    "model.fit(trainX_sequences,trainY_onehot,nb_epoch=1,batch_size=64,\n",
    "          validation_data = (testX_sequences,testY_onehot),verbose=2)"
   ]
  },
  {
   "cell_type": "code",
   "execution_count": 109,
   "metadata": {
    "collapsed": true
   },
   "outputs": [],
   "source": [
    "model.optimizer.lr=1e-4"
   ]
  },
  {
   "cell_type": "code",
   "execution_count": 110,
   "metadata": {
    "collapsed": false
   },
   "outputs": [
    {
     "name": "stdout",
     "output_type": "stream",
     "text": [
      "Train on 25000 samples, validate on 25000 samples\n",
      "Epoch 1/1\n",
      "5s - loss: 0.3708 - acc: 0.8261 - val_loss: 0.6391 - val_acc: 0.6804\n"
     ]
    },
    {
     "data": {
      "text/plain": [
       "<keras.callbacks.History at 0x7f85c014e5d0>"
      ]
     },
     "execution_count": 110,
     "metadata": {},
     "output_type": "execute_result"
    }
   ],
   "source": [
    "model.fit(trainX_sequences,trainY_onehot,nb_epoch=1,batch_size=64,\n",
    "          validation_data = (testX_sequences,testY_onehot),verbose=2)"
   ]
  },
  {
   "cell_type": "code",
   "execution_count": 112,
   "metadata": {
    "collapsed": false
   },
   "outputs": [
    {
     "name": "stdout",
     "output_type": "stream",
     "text": [
      "Train on 25000 samples, validate on 25000 samples\n",
      "Epoch 1/5\n",
      "5s - loss: 0.3096 - acc: 0.8617 - val_loss: 0.7175 - val_acc: 0.6706\n",
      "Epoch 2/5\n",
      "5s - loss: 0.2832 - acc: 0.8742 - val_loss: 0.7615 - val_acc: 0.6761\n",
      "Epoch 3/5\n",
      "5s - loss: 0.2613 - acc: 0.8865 - val_loss: 0.7393 - val_acc: 0.6812\n",
      "Epoch 4/5\n",
      "5s - loss: 0.2457 - acc: 0.8946 - val_loss: 0.8430 - val_acc: 0.6774\n",
      "Epoch 5/5\n",
      "5s - loss: 0.2267 - acc: 0.9042 - val_loss: 0.8391 - val_acc: 0.6791\n"
     ]
    },
    {
     "data": {
      "text/plain": [
       "<keras.callbacks.History at 0x7f85bffbfed0>"
      ]
     },
     "execution_count": 112,
     "metadata": {},
     "output_type": "execute_result"
    }
   ],
   "source": [
    "model.fit(trainX_sequences,trainY_onehot,nb_epoch=5,batch_size=64,\n",
    "          validation_data = (testX_sequences,testY_onehot),verbose=2)"
   ]
  },
  {
   "cell_type": "code",
   "execution_count": null,
   "metadata": {
    "collapsed": true
   },
   "outputs": [],
   "source": []
  }
 ],
 "metadata": {
  "anaconda-cloud": {},
  "kernelspec": {
   "display_name": "Python [default]",
   "language": "python",
   "name": "python2"
  },
  "language_info": {
   "codemirror_mode": {
    "name": "ipython",
    "version": 2
   },
   "file_extension": ".py",
   "mimetype": "text/x-python",
   "name": "python",
   "nbconvert_exporter": "python",
   "pygments_lexer": "ipython2",
   "version": "2.7.12"
  }
 },
 "nbformat": 4,
 "nbformat_minor": 2
}
